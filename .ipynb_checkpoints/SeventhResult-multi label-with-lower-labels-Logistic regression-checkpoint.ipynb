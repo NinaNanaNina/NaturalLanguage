{
 "cells": [
  {
   "cell_type": "code",
   "execution_count": 2,
   "metadata": {},
   "outputs": [],
   "source": [
    "#import nltk.tokenize \n",
    "import pandas as pd\n",
    "fullText = pd.read_csv('MainData_Turkish4.csv',encoding = 'utf-8',delimiter=',')\n",
    "#fullText\n",
    "#just show our data labels titles\n",
    "#psd = pd.read_csv('MainData_Turkish4.csv', index_col=0, nrows=1).columns.tolist()\n",
    "#print(psd)\n",
    "\n",
    "#print(fullText.iloc[0])#index 0 show title - first row in our DB\n",
    "#print(fullText)\n",
    "\n",
    "#all the value of our csv file in column 0 means our disease discription \n",
    "diseaseDescription = fullText.iloc[:,0]\n",
    "#print(diseaseDescription)"
   ]
  },
  {
   "cell_type": "code",
   "execution_count": 3,
   "metadata": {},
   "outputs": [],
   "source": [
    "#CHANGE TO LOWERCASE\n",
    "diseaseDescription = [item.lower() for item in diseaseDescription]\n"
   ]
  },
  {
   "cell_type": "code",
   "execution_count": 4,
   "metadata": {},
   "outputs": [],
   "source": [
    "#remove white space from start and end of strings\n",
    "diseaseDescription = [item.strip('') for item in diseaseDescription]\n",
    "#diseaseDescription"
   ]
  },
  {
   "cell_type": "code",
   "execution_count": 5,
   "metadata": {},
   "outputs": [],
   "source": [
    "#remove puncutations from diseaseDescription lists\n",
    "import string\n",
    "punc = string.punctuation #punc is our varable\n",
    "#print(punc)\n",
    "diseaseDescriptionListAfterPunctuation = [''.join(char for char in eachItem if char not in string.punctuation) for eachItem in diseaseDescription]\n",
    "#print(diseaseDescriptionListAfterPunctuation)"
   ]
  },
  {
   "cell_type": "code",
   "execution_count": 6,
   "metadata": {
    "scrolled": false
   },
   "outputs": [],
   "source": [
    "#method two is the best for this case\n",
    "#https://github.com/ahmetax/trstop/blob/master/dosyalar/turkce-stop-words\n",
    "filee = open(\"turkishStopWords.txt\", \"r\",encoding=\"utf-8\")\n",
    "turkishStopWords = filee.read()\n",
    "turkishStopWords = turkishStopWords.split(',')\n",
    "# print(turkishStopWords)\n",
    "#for item in turkishStopWords: \n",
    "#    print(item) \n",
    "\n",
    "cleanedData_FromStopWords = [' '.join(w for w in word.split() if w not in turkishStopWords) for word in diseaseDescriptionListAfterPunctuation]\n",
    "#print(cleanedData_FromStopWords)\n",
    "\n",
    "#Zeyrek destroy our concept of items in a list means after lemmatization our list of items change to list of words so \n",
    "#for solve it we add pip line after each item in our cleanedData_FromStopWords\n",
    "listt = [item + ',|' for item in cleanedData_FromStopWords]\n",
    "#listt "
   ]
  },
  {
   "cell_type": "code",
   "execution_count": 7,
   "metadata": {},
   "outputs": [],
   "source": [
    "# first off all install zeyrek(for lemmitization) which is part of zembrek library\n",
    "#pip install zeyrek \n",
    "import zeyrek\n",
    "#MorphAnalyzer() is a function in zeyrek library that we should use it to lemmatize words \n",
    "analyzer = zeyrek.MorphAnalyzer()\n",
    "\n",
    "#position 0 is our original word(incelendi)-----\n",
    "#position 1 is our founded lem words-----\n",
    "#position 0 means take the first lem word\n",
    "#for test \n",
    "#print(analyzer.lemmatize('incelendi')[0][1][0])\n",
    "\n",
    "Lemmatized_data = [analyzer.lemmatize(item) for item in listt]\n",
    "#print(Lemmatized_data)\n",
    "\n",
    "FinishedList = []\n",
    "for item in Lemmatized_data:\n",
    "    for member in item:\n",
    "        FinishedList.append(member[1][0]) #take first lem word\n",
    "                \n",
    "#print(FinishedList)\n",
    "\n",
    "bad_char = [',']\n",
    "resulttt = ' '.join(char for char in FinishedList if not char in bad_char) \n",
    "#print(resulttt)\n",
    "\n",
    "newlist =resulttt.split(\"|\")\n",
    "#print(newlist)\n",
    "\n",
    "#remove last index which have just '' item\n",
    "#now X is all of our disease descriptions that is ready to training \n",
    "X = newlist[:-1]\n",
    "\n",
    "# print(len(X))\n",
    "# print(len(newlist))\n",
    "# print(len(diseaseDescription))\n",
    "\n",
    "\n"
   ]
  },
  {
   "cell_type": "code",
   "execution_count": 8,
   "metadata": {},
   "outputs": [
    {
     "name": "stdout",
     "output_type": "stream",
     "text": [
      "148\n",
      "     POLİP  GASTRİT  HİATAL YETMEZLİK  ÜLSER  HİATAL HERNİ  DİĞER\n",
      "4        0        1                 1      0             0      1\n",
      "103      0        1                 0      0             0      0\n",
      "116      0        1                 0      0             0      0\n",
      "41       0        1                 0      0             0      0\n",
      "50       0        1                 0      0             0      0\n",
      "70       0        1                 0      0             0      0\n",
      "130      0        1                 0      0             0      1\n",
      "134      0        1                 1      0             0      0\n",
      "27       0        1                 0      0             0      0\n",
      "124      0        1                 0      0             0      0\n",
      "29       0        1                 1      0             0      0\n",
      "87       0        1                 0      0             0      0\n",
      "117      1        1                 1      0             0      0\n",
      "99       0        1                 0      0             0      0\n",
      "30       0        1                 0      0             0      0\n"
     ]
    },
    {
     "data": {
      "text/plain": [
       "array([[0, 1, 0, 0, 0, 0],\n",
       "       [0, 1, 0, 0, 0, 0],\n",
       "       [0, 1, 0, 0, 0, 0],\n",
       "       [0, 1, 0, 0, 0, 0],\n",
       "       [0, 1, 0, 0, 0, 0],\n",
       "       [0, 1, 0, 0, 0, 0],\n",
       "       [0, 1, 0, 0, 0, 0],\n",
       "       [0, 1, 0, 0, 0, 0],\n",
       "       [0, 1, 0, 0, 0, 0],\n",
       "       [0, 1, 0, 0, 0, 0],\n",
       "       [0, 1, 0, 0, 0, 0],\n",
       "       [0, 1, 0, 0, 0, 0],\n",
       "       [0, 1, 0, 0, 0, 0],\n",
       "       [0, 1, 0, 0, 0, 0],\n",
       "       [0, 1, 0, 0, 0, 0]], dtype=int64)"
      ]
     },
     "execution_count": 8,
     "metadata": {},
     "output_type": "execute_result"
    }
   ],
   "source": [
    "import numpy as np\n",
    "import matplotlib.pyplot as plt \n",
    "import seaborn as sns\n",
    "# ML Pkgs\n",
    "from sklearn.linear_model import LogisticRegression\n",
    "from sklearn.neighbors import KNeighborsClassifier\n",
    "from sklearn.tree import DecisionTreeClassifier\n",
    "from sklearn.naive_bayes import GaussianNB,MultinomialNB\n",
    "from sklearn.metrics import accuracy_score,hamming_loss,classification_report\n",
    "### Split Dataset into Train and Text\n",
    "from sklearn.model_selection import train_test_split\n",
    "# Feature engineering\n",
    "from sklearn.feature_extraction.text import TfidfVectorizer\n",
    "# Multi Label Pkgs\n",
    "# !pip install scikit-multilearn\n",
    "from skmultilearn.problem_transform import BinaryRelevance\n",
    "from skmultilearn.problem_transform import ClassifierChain\n",
    "from skmultilearn.problem_transform import LabelPowerset\n",
    "from skmultilearn.adapt import MLkNN\n",
    "\n",
    "#show the full columns title with the first 5 rows\n",
    "#fullText.head()\n",
    "\n",
    "#show row 0 means the first row\n",
    "#fullText.loc[0].EndoscopyReportdescription\n",
    "\n",
    "#show all titles type the first column type is object and the others are int64 \n",
    "#fullText.dtypes\n",
    "\n",
    "\n",
    "#type 1 chart-drawing Value Count for AL POLİPOZİS column  as chart  (it show 147 row have value 0 and one row has value 1)\n",
    "#sns.countplot(fullText['AL POLİPOZİS'])\n",
    "\n",
    "#type 2 chart-drawing Value Count for AL POLİPOZİS column  as bar chart\n",
    "#fullText['AL POLİPOZİS'].value_counts().plot(kind='bar')\n",
    "\n",
    "# see how much value we have in this case show as numbers\n",
    "#fullText['AL POLİPOZİS'].value_counts()\n",
    "\n",
    "tfidf = TfidfVectorizer()\n",
    "# Build Features\n",
    "Xfeatures = tfidf.fit_transform(X).toarray()\n",
    "print(len(Xfeatures))\n",
    "y = fullText[['POLİP','GASTRİT','HİATAL YETMEZLİK','ÜLSER','HİATAL HERNİ','DİĞER']]\n",
    "#print(y)\n",
    "\n",
    "# X= Disease desc Y= lables\n",
    "# Split Data \n",
    "X_train,X_test,y_train,y_test = train_test_split(Xfeatures,y,test_size=0.1,random_state=8)\n",
    "\n",
    "import skmultilearn\n",
    "\n",
    "\n",
    "# using classifier chains\n",
    "from skmultilearn.problem_transform import ClassifierChain\n",
    "from sklearn.linear_model import LogisticRegression\n",
    "# initialize classifier chains multi-label classifier\n",
    "model = BinaryRelevance(MultinomialNB())\n",
    "model2 = ClassifierChain(LogisticRegression())\n",
    "# Training logistic regression model on train data\n",
    "model2.fit(X_train, y_train)\n",
    "\n",
    "# predict\n",
    "predictions = model2.predict(X_test)\n",
    "# accuracy\n",
    "print(y_test)\n",
    "predictions.toarray()"
   ]
  },
  {
   "cell_type": "code",
   "execution_count": 9,
   "metadata": {},
   "outputs": [
    {
     "data": {
      "text/plain": [
       "7.777777777777778"
      ]
     },
     "execution_count": 9,
     "metadata": {},
     "output_type": "execute_result"
    }
   ],
   "source": [
    "\n",
    "# Hamming Loss :Incorrect Predictions\n",
    "# The Lower the result the better\n",
    "L = hamming_loss(y_test,predictions)*100\n",
    "L"
   ]
  },
  {
   "cell_type": "code",
   "execution_count": 9,
   "metadata": {},
   "outputs": [
    {
     "data": {
      "image/png": "[encoded data removed]",
      "text/plain": [
       "<Figure size 2880x432 with 1 Axes>"
      ]
     },
     "metadata": {
      "needs_background": "light"
     },
     "output_type": "display_data"
    },
    {
     "name": "stdout",
     "output_type": "stream",
     "text": [
      " accuracy_score = 66.66666666666666 \n",
      " f1_score =  81.08108108108108 \n",
      " precision_score =  100.0 \n",
      " hamming_loss =  7.777777777777778\n"
     ]
    }
   ],
   "source": [
    "from sklearn.metrics import accuracy_score, f1_score, precision_score\n",
    "\n",
    "# Accuracy\n",
    "A = accuracy_score(y_test,predictions)*100\n",
    "B = f1_score(y_test, predictions,average='micro')*100\n",
    "C =precision_score(y_test, predictions,average='micro')*100\n",
    "\n",
    "#print('accuracy_score = ',A)\n",
    "#print('f1_score = ',B)\n",
    "#print('precision_score = ',C)\n",
    "\n",
    "import matplotlib.pyplot as plt\n",
    "names = ['accuracy_score', 'f1_score', 'precision_score', 'hamming_loss']\n",
    "values = [A, B, C, L]\n",
    "plt.figure(figsize=(40, 6))\n",
    "plt.subplot(131)\n",
    "plt.bar(names, values)\n",
    "plt.show()\n",
    "print(' accuracy_score =', A,'\\n' ,'f1_score = ', B,'\\n' ,'precision_score = ',C,'\\n' ,'hamming_loss = ', L)"
   ]
  },
  {
   "cell_type": "code",
   "execution_count": 10,
   "metadata": {},
   "outputs": [],
   "source": [
    "#save model for future use\n",
    "import pickle\n",
    "\n",
    "# Save to file in the current working directory\n",
    "#wb = write\n",
    "Model_name = \"pickle_model.pkl\"\n",
    "with open(Model_name, 'wb') as file:\n",
    "    pickle.dump(model2, file)\n",
    "    \n",
    "# Load from file\n",
    "#rb = read\n",
    "with open(Model_name, 'rb') as file:\n",
    "    Loadedmodel = pickle.load(file)\n",
    "    \n",
    "# Calculate the accuracy score and predict target values\n",
    "#score = model.score(X_test, y_test)\n",
    "#print(\"Test score: {0:.2f} %\".format(100 * score))\n",
    "#Ypredict = model.predict(X_test) \n",
    "#Ypredict.toarray()"
   ]
  },
  {
   "cell_type": "code",
   "execution_count": 11,
   "metadata": {},
   "outputs": [
    {
     "name": "stdout",
     "output_type": "stream",
     "text": [
      "Original disease Description: \n",
      "SEDASYON ANESTEZİ ALTINDA İŞLEME BAŞLANDI. SERVİKAL, TORAKAL VE ABDOMİNAL ÖZEFAGUS NORMAL BULUNDU. Z ÇİZGİSİ 40. CM’DE GEÇİLDİ. MİDEYE GİRİLDİĞİNDE AÇLIK SEKRESYONU BELİRLENDİ. MİDE TÜM BÖLÜMLERİ İLE İNCELENDİ. ANTRUM MUKOZASI HİPEREMİK VE ÖDEMLİ BULUNDU. PİLOR SANRALİZE VE FONKSİYONE BULUNDU. BULBUS VE II. KITADA hiperemik alanlar vardı. BULBUS VE ANTRUMDAN BİOPSİ ALINDI. RETROVERSİYONDA KARDİYA VE FUNDUS MUKOZASI NORMAL BULUNDU. HİATUS HAFİF GEVŞEK OLARAK İZLENDİ\n",
      "\n",
      "Original disease Labels: \n",
      "POLİP               0\n",
      "GASTRİT             1\n",
      "HİATAL YETMEZLİK    1\n",
      "ÜLSER               0\n",
      "HİATAL HERNİ        0\n",
      "DİĞER               1\n",
      "Name: 4, dtype: int64\n",
      "\n",
      "Predicted Result: [[0. 1. 0. 0. 0. 0.]]\n"
     ]
    }
   ],
   "source": [
    "print(\"Original disease Description: \")\n",
    "ItemDiscription = fullText['EndoscopyReportdescription'].iloc[4]\n",
    "print(ItemDiscription)\n",
    "print(\"\\n\" + \"Original disease Labels: \")\n",
    "ItemLabels = fullText[['POLİP','GASTRİT','HİATAL YETMEZLİK','ÜLSER','HİATAL HERNİ','DİĞER']].iloc[4]\n",
    "print(ItemLabels)\n",
    "VectorizedX = tfidf.transform([ItemDiscription])\n",
    "Predictedresult = Loadedmodel.predict(VectorizedX).toarray()\n",
    "print(\"\\n\" + \"Predicted Result: \" + str(Predictedresult) )"
   ]
  },
  {
   "cell_type": "code",
   "execution_count": null,
   "metadata": {},
   "outputs": [],
   "source": [
    "# multi-class classification\n",
    "# from sklearn.datasets import make_classification\n",
    "# from sklearn.multiclass import OneVsRestClassifier\n",
    "# from sklearn.linear_model import LogisticRegression\n",
    "# from sklearn.model_selection import train_test_split\n",
    "# from sklearn.metrics import roc_curve\n",
    "# from sklearn.metrics import roc_auc_score\n",
    "\n",
    "\n",
    "# # roc curve for classes\n",
    "# fpr = {}\n",
    "# tpr = {}\n",
    "# thresh ={}\n",
    "# n_class = 3\n",
    "\n",
    "# for i in range(n_class):    \n",
    "#     fpr[i], tpr[i], thresh[i] = roc_curve(y_test, predictions[:,i], pos_label=i)\n",
    "    \n",
    "# # plotting    \n",
    "# plt.plot(fpr[0], tpr[0], linestyle='--',color='orange', label='Class 0 vs Rest')\n",
    "# plt.plot(fpr[1], tpr[1], linestyle='--',color='green', label='Class 1 vs Rest')\n",
    "# plt.plot(fpr[2], tpr[2], linestyle='--',color='blue', label='Class 2 vs Rest')\n",
    "# plt.title('Multiclass ROC curve')\n",
    "# plt.xlabel('False Positive Rate')\n",
    "# plt.ylabel('True Positive rate')\n",
    "# plt.legend(loc='best')\n",
    "# plt.savefig('Multiclass ROC',dpi=300);  "
   ]
  }
 ],
 "metadata": {
  "kernelspec": {
   "display_name": "Python 3",
   "language": "python",
   "name": "python3"
  },
  "language_info": {
   "codemirror_mode": {
    "name": "ipython",
    "version": 3
   },
   "file_extension": ".py",
   "mimetype": "text/x-python",
   "name": "python",
   "nbconvert_exporter": "python",
   "pygments_lexer": "ipython3",
   "version": "3.8.5"
  }
 },
 "nbformat": 4,
 "nbformat_minor": 4
}
