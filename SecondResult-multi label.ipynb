{
 "cells": [
  {
   "cell_type": "code",
   "execution_count": 32,
   "metadata": {},
   "outputs": [],
   "source": [
    "import nltk.tokenize \n",
    "import pandas as pd\n",
    "fullText = pd.read_csv('MainData_Turkish3.csv',encoding = 'utf-8',delimiter=',') #fullText\n",
    "#print(fullText)\n",
    "#all the value of our csv file in column 0 means our disease discription \n",
    "diseaseDescription = fullText.iloc[:,0]\n",
    "#diseaseDescription\n",
    "#all the value of our csv file in column 1 means our label \n",
    "#diseaseName = fullText.iloc[:,1]\n",
    "#diseaseName"
   ]
  },
  {
   "cell_type": "code",
   "execution_count": 33,
   "metadata": {},
   "outputs": [],
   "source": [
    "#CHANGE TO LOWERCASE\n",
    "diseaseDescription = [item.lower() for item in diseaseDescription]\n"
   ]
  },
  {
   "cell_type": "code",
   "execution_count": 34,
   "metadata": {},
   "outputs": [],
   "source": [
    "#remove white space from start and end of strings\n",
    "diseaseDescription = [item.strip('') for item in diseaseDescription]\n",
    "#diseaseDescription"
   ]
  },
  {
   "cell_type": "code",
   "execution_count": 35,
   "metadata": {},
   "outputs": [],
   "source": [
    "#remove puncutations from diseaseDescription lists\n",
    "import string\n",
    "punc = string.punctuation\n",
    "#print(punc)\n",
    "\n",
    "diseaseDescriptionListAfterPunctuation = [''.join(char for char in eachItem if char not in string.punctuation) for eachItem in diseaseDescription]\n",
    "#diseaseDescriptionListAfterPunctuation"
   ]
  },
  {
   "cell_type": "code",
   "execution_count": 36,
   "metadata": {
    "scrolled": false
   },
   "outputs": [],
   "source": [
    "#method two is the best for this case\n",
    "#https://github.com/ahmetax/trstop/blob/master/dosyalar/turkce-stop-words\n",
    "filee = open(\"turkishStopWords.txt\", \"r\",encoding=\"utf-8\")\n",
    "turkishStopWords = filee.read()\n",
    "turkishStopWords = turkishStopWords.split(',')\n",
    "# print(turkishStopWords)\n",
    "# for item in turkishStopWords: \n",
    "#     print(item) \n",
    "\n",
    "cleanedData_FromStopWords = [' '.join(w for w in word.split() if w not in turkishStopWords) for word in diseaseDescriptionListAfterPunctuation]\n",
    "#print(cleanedData_FromStopWords)\n",
    "\n",
    "listt = [item + ',|' for item in cleanedData_FromStopWords]\n",
    "#listt"
   ]
  },
  {
   "cell_type": "code",
   "execution_count": 37,
   "metadata": {},
   "outputs": [],
   "source": [
    "# first off all install zeyrek(for lemmitization) which is part of zembrek library\n",
    "#pip install zeyrek into your env variable\n",
    "import zeyrek\n",
    "analyzer = zeyrek.MorphAnalyzer()\n",
    "#print(analyzer.lemmatize('incelendi')[0][1][0])\n",
    "Lemmatized_data = [analyzer.lemmatize(item) for item in listt]\n",
    "#print(Lemmatized_data)\n",
    "\n",
    "FinishedList = []\n",
    "for item in Lemmatized_data:\n",
    "    for member in item:\n",
    "        FinishedList.append(member[1][0])\n",
    "                \n",
    "#print(FinishedList)\n",
    "\n",
    "bad_char = [',']\n",
    "resulttt = ' '.join(char for char in FinishedList if not char in bad_char) \n",
    "#resulttt\n",
    "newlist =resulttt.split(\"|\")\n",
    "#print(newlist)\n",
    "#remove last index which have just '' item\n",
    "\n",
    "X = newlist[:-1]\n",
    "#print(newlist)\n",
    "#print(len(newlist))\n",
    "#print(len(diseaseName))\n",
    "\n",
    "\n"
   ]
  },
  {
   "cell_type": "code",
   "execution_count": 38,
   "metadata": {},
   "outputs": [
    {
     "data": {
      "text/plain": [
       "BinaryRelevance(classifier=MultinomialNB(), require_dense=[True, True])"
      ]
     },
     "execution_count": 38,
     "metadata": {},
     "output_type": "execute_result"
    }
   ],
   "source": [
    "# Load Data Viz Pkgs\n",
    "import numpy as np\n",
    "import matplotlib.pyplot as plt \n",
    "import seaborn as sns\n",
    "# ML Pkgs\n",
    "from sklearn.linear_model import LogisticRegression\n",
    "from sklearn.neighbors import KNeighborsClassifier\n",
    "from sklearn.tree import DecisionTreeClassifier\n",
    "from sklearn.naive_bayes import GaussianNB,MultinomialNB\n",
    "from sklearn.metrics import accuracy_score,hamming_loss,classification_report\n",
    "### Split Dataset into Train and Text\n",
    "from sklearn.model_selection import train_test_split\n",
    "# Feature engineering\n",
    "from sklearn.feature_extraction.text import TfidfVectorizer\n",
    "# Multi Label Pkgs\n",
    "# !pip install scikit-multilearn\n",
    "from skmultilearn.problem_transform import BinaryRelevance\n",
    "from skmultilearn.problem_transform import ClassifierChain\n",
    "from skmultilearn.problem_transform import LabelPowerset\n",
    "from skmultilearn.adapt import MLkNN\n",
    "\n",
    "#show the full columns title with the first 5 rows\n",
    "#fullText.head()\n",
    "\n",
    "#show row 0 means the first row\n",
    "#fullText.loc[0].EndoscopyReportdescription\n",
    "\n",
    "#show all titles type the first column type is object and the others are int64 \n",
    "#fullText.dtypes\n",
    "\n",
    "\n",
    "#type 1 chart-drawing Value Count for AL POLİPOZİS column  as chart  (it show 147 row have value 0 and one row has value 1)\n",
    "#sns.countplot(fullText['AL POLİPOZİS'])\n",
    "\n",
    "#type 2 chart-drawing Value Count for AL POLİPOZİS column  as bar chart\n",
    "#fullText['AL POLİPOZİS'].value_counts().plot(kind='bar')\n",
    "\n",
    "# see how much value we have in this case show as numbers\n",
    "#fullText['AL POLİPOZİS'].value_counts()\n",
    "\n",
    "tfidf = TfidfVectorizer()\n",
    "# Build Features\n",
    "Xfeatures = tfidf.fit_transform(X).toarray()\n",
    "#Xfeatures\n",
    "y = fullText[['AL POLİPOZİS','ALKALEN REFLÜ GASTRİT','HİATAL YETMEZLİK','ANASTOMOZ ÜLSERİ','HİATAL HERNİ','ANTRAL GASTRİT','ANTRUMDA ÜLSER','KORPUSTA POLİPOİD LEZYONLAR','KARDIADA HIPEREMIK ALAN','LES GEVŞEKLİĞİ','ANTRUM VE FUNDUSTA POLİPLER','ANTRUMDA HİPERTROFİK LEZYON','GEVŞEK KARDİA','HİPOTONİK MİDE','HİYATAK HERNİ','POLIP','BULBİT','DUODENAL ÜLSER','REFLÜ ÖZOFAJİT','ANTRAL POLİPOZİS','ATROFIK GASTRİT','BULBUSDA ÜLSER','DİSTAL ÖZEFAJİT','PANGASTRİT','DUODENUM BULBUS ÜLSER','HEMORAJİK EROZİV PANGASTRİT','EROSİV PANGASTRİT','POST BULBER POLİP','EROZİV GASTRİT','FUNDAL GASTRİT','FUNDUSTA POLİPOİD LEZYONLAR','ALKALEN REFLU','SALİMANASTOMOZ HATTI','NATRAL POLİP','KORPUSTA MALİGN GÖRÜNÜMLÜ ÜLSER','MİDE FUNDUS VE KARDİADA MULTİBL POLİOPLERİ ANTRAL GASTRİT','MİDE FUNDUSTA POLİPLER','MİDEDE GIDA ARTIKLARI','MİDEDE SEKRESYON','MİNİMAL HİATAL HERNİ','NORMAL ENDOSKOPİK BULGULAR','NORMAL GASTROSKOPİK BULGULAR','ÖZEFAGUS ALT UÇTA VARİS','BULBUSTA POLİP','PREPİPORİK KÜÇÜK KURVATUR','ANTRUM MUKOZASI HİPEREMİK VE ÖDEMLİ','SALİM ANASTOMOZ HATTI','TANI YOK','PYLORDA POLIPOD KABALAŞMA','ANTRAL GASTRİT PYLORIT']]\n",
    "#print(y)\n",
    "\n",
    "\n",
    "# Split Data \n",
    "X_train,X_test,y_train,y_test = train_test_split(Xfeatures,y,test_size=0.1,random_state=42)\n",
    "#print(fullText['EndoscopyReportdescription'].shape)\n",
    "#print(X_train.shape)\n",
    "\n",
    "\n",
    "# Building Our Model\n",
    "# Estimator + Multilabel Estimator\n",
    "### Problem Transform\n",
    "import skmultilearn\n",
    "\n",
    "\n",
    "# Convert Our Multi-Label Prob to Multi-Class\n",
    "# binary classficiation\n",
    "binary_rel_clf = BinaryRelevance(MultinomialNB())\n",
    "binary_rel_clf.fit(X_train,y_train)\n"
   ]
  },
  {
   "cell_type": "code",
   "execution_count": 20,
   "metadata": {},
   "outputs": [],
   "source": [
    "# Predictions\n",
    "binary_prediction = binary_rel_clf.predict(X_test)\n",
    "#binary_prediction"
   ]
  },
  {
   "cell_type": "code",
   "execution_count": 21,
   "metadata": {},
   "outputs": [],
   "source": [
    "# Convert to Array  To See Result\n",
    "#binary_prediction.toarray()"
   ]
  },
  {
   "cell_type": "code",
   "execution_count": 22,
   "metadata": {},
   "outputs": [
    {
     "data": {
      "text/plain": [
       "46.666666666666664"
      ]
     },
     "execution_count": 22,
     "metadata": {},
     "output_type": "execute_result"
    }
   ],
   "source": [
    "# Accuracy\n",
    "A = accuracy_score(y_test,binary_prediction)*100\n",
    "A"
   ]
  },
  {
   "cell_type": "code",
   "execution_count": 23,
   "metadata": {},
   "outputs": [
    {
     "data": {
      "text/plain": [
       "2.2666666666666666"
      ]
     },
     "execution_count": 23,
     "metadata": {},
     "output_type": "execute_result"
    }
   ],
   "source": [
    "\n",
    "# Hamming Loss :Incorrect Predictions\n",
    "# The Lower the result the better\n",
    "L = hamming_loss(y_test,binary_prediction)*100\n",
    "L"
   ]
  },
  {
   "cell_type": "code",
   "execution_count": 12,
   "metadata": {},
   "outputs": [
    {
     "data": {
      "image/png": "[encoded data removed]",
      "text/plain": [
       "<Figure size 2880x432 with 1 Axes>"
      ]
     },
     "metadata": {
      "needs_background": "light"
     },
     "output_type": "display_data"
    },
    {
     "name": "stdout",
     "output_type": "stream",
     "text": [
      " accuracy_score = 46.666666666666664 \n",
      " f1_score =  51.42857142857142 \n",
      " precision_score =  81.81818181818183 \n",
      " hamming_loss =  2.2666666666666666\n"
     ]
    }
   ],
   "source": [
    "from sklearn.metrics import accuracy_score, f1_score, precision_score\n",
    "\n",
    "B = f1_score(y_test, binary_prediction,average='micro')*100\n",
    "C =precision_score(y_test, binary_prediction,average='micro')*100\n",
    "\n",
    "#print('accuracy_score = ',A)\n",
    "#print('f1_score = ',B)\n",
    "#print('precision_score = ',C)\n",
    "\n",
    "import matplotlib.pyplot as plt\n",
    "names = ['accuracy_score', 'f1_score', 'precision_score', 'hamming_loss']\n",
    "values = [A, B, C, L]\n",
    "plt.figure(figsize=(40, 6))\n",
    "plt.subplot(131)\n",
    "plt.bar(names, values)\n",
    "plt.show()\n",
    "print(' accuracy_score =', A,'\\n' ,'f1_score = ', B,'\\n' ,'precision_score = ',C,'\\n' ,'hamming_loss = ', L)"
   ]
  },
  {
   "cell_type": "code",
   "execution_count": null,
   "metadata": {},
   "outputs": [],
   "source": []
  }
 ],
 "metadata": {
  "kernelspec": {
   "display_name": "Python 3",
   "language": "python",
   "name": "python3"
  },
  "language_info": {
   "codemirror_mode": {
    "name": "ipython",
    "version": 3
   },
   "file_extension": ".py",
   "mimetype": "text/x-python",
   "name": "python",
   "nbconvert_exporter": "python",
   "pygments_lexer": "ipython3",
   "version": "3.8.5"
  }
 },
 "nbformat": 4,
 "nbformat_minor": 4
}
