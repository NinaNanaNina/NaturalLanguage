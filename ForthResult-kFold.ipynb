{
 "cells": [
  {
   "cell_type": "code",
   "execution_count": 1,
   "metadata": {},
   "outputs": [],
   "source": [
    "import nltk.tokenize \n",
    "import pandas as pd\n",
    "fullText = pd.read_csv('MainData_Turkish4.csv',encoding = 'utf-8',delimiter=',') #fullText\n",
    "#print(fullText)\n",
    "#all the value of our csv file in column 0 means our disease discription \n",
    "diseaseDescription = fullText.iloc[:,0]\n",
    "#diseaseDescription\n",
    "#all the value of our csv file in column 1 means our label \n",
    "#diseaseName = fullText.iloc[:,1]\n",
    "#diseaseName"
   ]
  },
  {
   "cell_type": "code",
   "execution_count": 2,
   "metadata": {},
   "outputs": [],
   "source": [
    "#CHANGE TO LOWERCASE\n",
    "diseaseDescription = [item.lower() for item in diseaseDescription]\n"
   ]
  },
  {
   "cell_type": "code",
   "execution_count": 3,
   "metadata": {},
   "outputs": [],
   "source": [
    "#remove white space from start and end of strings\n",
    "diseaseDescription = [item.strip('') for item in diseaseDescription]\n",
    "#diseaseDescription"
   ]
  },
  {
   "cell_type": "code",
   "execution_count": 4,
   "metadata": {},
   "outputs": [],
   "source": [
    "#remove puncutations from diseaseDescription lists\n",
    "import string\n",
    "punc = string.punctuation\n",
    "#print(punc)\n",
    "\n",
    "diseaseDescriptionListAfterPunctuation = [''.join(char for char in eachItem if char not in string.punctuation) for eachItem in diseaseDescription]\n",
    "#diseaseDescriptionListAfterPunctuation"
   ]
  },
  {
   "cell_type": "code",
   "execution_count": 5,
   "metadata": {
    "scrolled": false
   },
   "outputs": [],
   "source": [
    "#method two is the best for this case\n",
    "#https://github.com/ahmetax/trstop/blob/master/dosyalar/turkce-stop-words\n",
    "filee = open(\"turkishStopWords.txt\", \"r\",encoding=\"utf-8\")\n",
    "turkishStopWords = filee.read()\n",
    "turkishStopWords = turkishStopWords.split(',')\n",
    "# print(turkishStopWords)\n",
    "# for item in turkishStopWords: \n",
    "#     print(item) \n",
    "\n",
    "cleanedData_FromStopWords = [' '.join(w for w in word.split() if w not in turkishStopWords) for word in diseaseDescriptionListAfterPunctuation]\n",
    "#print(cleanedData_FromStopWords)\n",
    "\n",
    "listt = [item + ',|' for item in cleanedData_FromStopWords]\n",
    "#listt"
   ]
  },
  {
   "cell_type": "code",
   "execution_count": 6,
   "metadata": {},
   "outputs": [],
   "source": [
    "# first off all install zeyrek(for lemmitization) which is part of zembrek library\n",
    "#pip install zeyrek into your env variable\n",
    "import zeyrek\n",
    "analyzer = zeyrek.MorphAnalyzer()\n",
    "#print(analyzer.lemmatize('incelendi')[0][1][0])\n",
    "Lemmatized_data = [analyzer.lemmatize(item) for item in listt]\n",
    "#print(Lemmatized_data)\n",
    "\n",
    "FinishedList = []\n",
    "for item in Lemmatized_data:\n",
    "    for member in item:\n",
    "        FinishedList.append(member[1][0])\n",
    "                \n",
    "#print(FinishedList)\n",
    "\n",
    "bad_char = [',']\n",
    "resulttt = ' '.join(char for char in FinishedList if not char in bad_char) \n",
    "#resulttt\n",
    "newlist =resulttt.split(\"|\")\n",
    "#print(newlist)\n",
    "#remove last index which have just '' item\n",
    "\n",
    "X = newlist[:-1]\n",
    "#print(newlist)\n",
    "#print(len(newlist))\n",
    "#print(len(diseaseName))\n",
    "\n",
    "\n"
   ]
  },
  {
   "cell_type": "code",
   "execution_count": 7,
   "metadata": {},
   "outputs": [],
   "source": [
    "# Load Data Viz Pkgs\n",
    "import numpy as np\n",
    "import matplotlib.pyplot as plt \n",
    "import seaborn as sns\n",
    "# ML Pkgs\n",
    "from sklearn.linear_model import LogisticRegression\n",
    "from sklearn.neighbors import KNeighborsClassifier\n",
    "from sklearn.tree import DecisionTreeClassifier\n",
    "from sklearn.naive_bayes import GaussianNB,MultinomialNB\n",
    "from sklearn.metrics import accuracy_score,hamming_loss,classification_report\n",
    "### Split Dataset into Train and Text\n",
    "from sklearn.model_selection import LeaveOneOut,KFold\n",
    "# Feature engineering\n",
    "from sklearn.feature_extraction.text import TfidfVectorizer\n",
    "# Multi Label Pkgs\n",
    "# !pip install scikit-multilearn\n",
    "from skmultilearn.problem_transform import BinaryRelevance\n",
    "from skmultilearn.problem_transform import ClassifierChain\n",
    "from skmultilearn.problem_transform import LabelPowerset\n",
    "from skmultilearn.adapt import MLkNN\n",
    "\n",
    "\n",
    "\n",
    "tfidf = TfidfVectorizer()\n",
    "# Build Features\n",
    "Xfeatures = tfidf.fit_transform(X).toarray()\n",
    "\n",
    "labels = fullText[['POLİP','GASTRİT','HİATAL YETMEZLİK','ÜLSER','HİATAL HERNİ','DİĞER']]\n",
    "#print(labels)\n",
    "\n",
    "import skmultilearn\n",
    "binary_rel_clf = BinaryRelevance(MultinomialNB())\n",
    "\n",
    "\n",
    "acc = []\n",
    "kf = KFold(n_splits=148)\n",
    "for train_ids,test_ids in kf.split(Xfeatures,labels):\n",
    "    train_docs,test_docs = Xfeatures[train_ids],Xfeatures[test_ids]\n",
    "    train_y,test_y = labels.iloc[train_ids],labels.iloc[test_ids]\n",
    "    clf = binary_rel_clf.fit(train_docs,train_y)\n",
    "    pred_y = clf.predict(test_docs)\n",
    "    acc.append(accuracy_score(test_y,pred_y))\n"
   ]
  },
  {
   "cell_type": "code",
   "execution_count": 8,
   "metadata": {},
   "outputs": [
    {
     "name": "stdout",
     "output_type": "stream",
     "text": [
      "50.0\n"
     ]
    }
   ],
   "source": [
    "total_accuracy = (sum(acc)/len(labels))*100\n",
    "print(total_accuracy)"
   ]
  },
  {
   "cell_type": "code",
   "execution_count": null,
   "metadata": {},
   "outputs": [],
   "source": []
  }
 ],
 "metadata": {
  "kernelspec": {
   "display_name": "Python 3",
   "language": "python",
   "name": "python3"
  },
  "language_info": {
   "codemirror_mode": {
    "name": "ipython",
    "version": 3
   },
   "file_extension": ".py",
   "mimetype": "text/x-python",
   "name": "python",
   "nbconvert_exporter": "python",
   "pygments_lexer": "ipython3",
   "version": "3.8.5"
  }
 },
 "nbformat": 4,
 "nbformat_minor": 4
}
